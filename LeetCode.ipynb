{
 "cells": [
  {
   "cell_type": "code",
   "execution_count": 12,
   "metadata": {},
   "outputs": [
    {
     "name": "stdout",
     "output_type": "stream",
     "text": [
      "False\n",
      "False\n",
      "False\n",
      "False\n",
      "True\n",
      "True\n",
      "True\n",
      "False\n",
      "['sweet', 'sour']\n"
     ]
    }
   ],
   "source": [
    "def solution(str1, str2):\n",
    "    dic = {}\n",
    "    all_str = str1 + ' ' + str2\n",
    "    list1 = all_str.split(' ')\n",
    "    for wrd in list1:\n",
    "        if wrd in dic:\n",
    "            cnt = dic[wrd]\n",
    "            cnt += 1\n",
    "            dic.update({wrd:cnt})\n",
    "        else:\n",
    "            dic.update({wrd:0})\n",
    "            \n",
    "    result = []\n",
    "    for key in dic.iterkeys():\n",
    "        if dic[key] == 0:\n",
    "            result.append(key)\n",
    "    return result\n",
    "\n",
    "print solution(\"this apple is sweet\", \"this apple is sour\")"
   ]
  }
 ],
 "metadata": {
  "kernelspec": {
   "display_name": "Python 2",
   "language": "python",
   "name": "python2"
  },
  "language_info": {
   "codemirror_mode": {
    "name": "ipython",
    "version": 2
   },
   "file_extension": ".py",
   "mimetype": "text/x-python",
   "name": "python",
   "nbconvert_exporter": "python",
   "pygments_lexer": "ipython2",
   "version": "2.7.15"
  }
 },
 "nbformat": 4,
 "nbformat_minor": 2
}
