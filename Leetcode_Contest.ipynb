{
 "cells": [
  {
   "cell_type": "code",
   "execution_count": 44,
   "metadata": {},
   "outputs": [
    {
     "name": "stdout",
     "output_type": "stream",
     "text": [
      "leetleetcode\n",
      "o\n",
      "hahahaha\n",
      "h\n",
      "a\n",
      "a\n"
     ]
    }
   ],
   "source": [
    "class Solution(object):\n",
    "    def decodeAtIndex(self, S, K):\n",
    "        \"\"\"\n",
    "        :type S: str\n",
    "        :type K: int\n",
    "        :rtype: str\n",
    "        \"\"\"\n",
    "        output_str = ''\n",
    "        for char in S:\n",
    "            if not self.is_digit(char):\n",
    "                output_str += char\n",
    "            else:\n",
    "                rep = int(char)\n",
    "                current_str = output_str\n",
    "                output_str = ''\n",
    "                for idx in range(rep):\n",
    "                    output_str = output_str + current_str \n",
    "                    if len(output_str) >= K:\n",
    "                        print(output_str)\n",
    "                        return output_str[K-1]\n",
    "        print(output_str)\n",
    "        return output_str[K-1]\n",
    "    \n",
    "    # check digit or letter\n",
    "    def is_digit(self, str):\n",
    "        ascii = ord(str)\n",
    "        if ascii >= 48 and ascii <= 57:\n",
    "            return True\n",
    "        return False\n",
    "    \n",
    "str1 = 'leet2code3'\n",
    "K1 = 10\n",
    "str2 = 'ha22'\n",
    "K2 = 5\n",
    "str3 = 'a2345678999999999999999'\n",
    "K3 = 1\n",
    "str4 = 'y959q969u3hb22odq595'\n",
    "K4 = 222280369\n",
    "'''\n",
    "for char in input_str:\n",
    "    if not is_digit(char):\n",
    "        output_str += char\n",
    "    else:\n",
    "        rep = int(char)\n",
    "        output_str = output_str * rep\n",
    "'''\n",
    "\n",
    "s = Solution()\n",
    "print(s.decodeAtIndex(str1, K1))\n",
    "print(s.decodeAtIndex(str2, K2))\n",
    "print(s.decodeAtIndex(str3, K3))\n",
    "#print(s.decodeAtIndex(str4, K4))"
   ]
  },
  {
   "cell_type": "code",
   "execution_count": null,
   "metadata": {},
   "outputs": [],
   "source": [
    "class Solution(object):\n",
    "    def numRescueBoats(self, people, limit):\n",
    "        \"\"\"\n",
    "        :type people: List[int]\n",
    "        :type limit: int\n",
    "        :rtype: int\n",
    "        \"\"\"\n",
    "        boats = 1\n",
    "        total = 0\n",
    "        people.sort()\n",
    "        print people\n",
    "        for p in people:\n",
    "            #print(p, total)\n",
    "            if (total + p) <= limit:\n",
    "                total += p\n",
    "                continue\n",
    "            else:\n",
    "                boats += 1\n",
    "                total = p\n",
    "        return boats\n",
    "    \n",
    "s = Solution()\n",
    "#print(s.numRescueBoats([1,2], 3))\n",
    "#print(s.numRescueBoats([3,2,2,1], 3))\n",
    "#print(s.numRescueBoats([3,5,3,4], 5))\n",
    "#print(s.numRescueBoats([3,2,2,1], 3))\n",
    "print(s.numRescueBoats([3,8,7,1,4], 9))"
   ]
  }
 ],
 "metadata": {
  "kernelspec": {
   "display_name": "Python 2",
   "language": "python",
   "name": "python2"
  },
  "language_info": {
   "codemirror_mode": {
    "name": "ipython",
    "version": 2
   },
   "file_extension": ".py",
   "mimetype": "text/x-python",
   "name": "python",
   "nbconvert_exporter": "python",
   "pygments_lexer": "ipython2",
   "version": "2.7.15"
  }
 },
 "nbformat": 4,
 "nbformat_minor": 2
}
