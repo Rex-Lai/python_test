{
 "cells": [
  {
   "cell_type": "code",
   "execution_count": null,
   "metadata": {},
   "outputs": [],
   "source": [
    "#Linked list, create/reverse\n",
    "import sys\n",
    "\n",
    "class Lnk:\n",
    "    def __init__(self, content):\n",
    "        self.content = 'ln_' + content\n",
    "        self.next = None\n",
    "\n",
    "def print_list(head):\n",
    "    curr = head\n",
    "    while curr.next is not None:\n",
    "        print(curr.content)\n",
    "        curr = curr.next\n",
    "    print(curr.content)    \n",
    "\n",
    "def create_list2(cnt):\n",
    "    idx = 0\n",
    "    nxt = Lnk(str(idx))\n",
    "    head = nxt\n",
    "    while idx < cnt-1:\n",
    "        idx += 1\n",
    "        curr = nxt\n",
    "        nxt = Lnk(str(idx))\n",
    "        curr.next = nxt\n",
    "    return head\n",
    "    \n",
    "def create_list1(cnt):\n",
    "    head = None\n",
    "    for idx in range(cnt):\n",
    "        nxt = Lnk(str(idx))\n",
    "        if idx == 0:\n",
    "            head = nxt\n",
    "        else:\n",
    "            curr.next = nxt\n",
    "        curr = nxt\n",
    "    return head\n",
    "    \n",
    "def reverse_list(head):\n",
    "    old_head = head\n",
    "    nxt = head.next\n",
    "    \n",
    "    while nxt is not None:\n",
    "        curr = head\n",
    "        head = nxt\n",
    "        nxt = nxt.next\n",
    "        head.next = curr\n",
    "        \n",
    "    old_head.next = None\n",
    "    return head\n",
    "\n",
    "print_list(create_list1(10))\n",
    "print('=====================')\n",
    "head = create_list2(10)\n",
    "print_list(head)\n",
    "head = reverse_list(head)\n",
    "print('=====================')\n",
    "print_list(head)"
   ]
  },
  {
   "cell_type": "code",
   "execution_count": null,
   "metadata": {},
   "outputs": [],
   "source": []
  }
 ],
 "metadata": {
  "kernelspec": {
   "display_name": "Python 2",
   "language": "python",
   "name": "python2"
  },
  "language_info": {
   "codemirror_mode": {
    "name": "ipython",
    "version": 2
   },
   "file_extension": ".py",
   "mimetype": "text/x-python",
   "name": "python",
   "nbconvert_exporter": "python",
   "pygments_lexer": "ipython2",
   "version": "2.7.15"
  }
 },
 "nbformat": 4,
 "nbformat_minor": 2
}
