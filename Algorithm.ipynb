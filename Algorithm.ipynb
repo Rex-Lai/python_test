{
 "cells": [
  {
   "cell_type": "code",
   "execution_count": null,
   "metadata": {},
   "outputs": [],
   "source": [
    "import sys\n",
    "\n",
    "MAX_SIZE = 8\n",
    "QUEEN = [None] * MAX_SIZE\n",
    "number = 0\n",
    "\n",
    "def check_attack(row, col):\n",
    "    print('check_attack:' + str(row) + ',' + str(col))\n",
    "    global QUEEN\n",
    "    idx = 0\n",
    "    is_attack = False\n",
    "    while is_attack == False and idx < col:\n",
    "        offset_x = abs(idx-col)\n",
    "        offset_y = abs(QUEEN[idx]-row)\n",
    "        if QUEEN[idx] == row or offset_x == offset_y:\n",
    "            is_attack = True\n",
    "        idx += 1\n",
    "    return is_attack\n",
    "\n",
    "def output():\n",
    "    global number\n",
    "    number += 1\n",
    "    solution = []\n",
    "    for idx in range(MAX_SIZE):\n",
    "        solution.append('[' + str(idx) + ',' + str(QUEEN[idx]) + ']')\n",
    "    print(str(number) + ''.join(solution))\n",
    "    input('Press any key...')\n",
    "\n",
    "def check_pos(val):\n",
    "    global QUEEN\n",
    "    i = 0\n",
    "    while i < MAX_SIZE:\n",
    "        if check_attack(i, val) == False:\n",
    "            QUEEN[val] = i\n",
    "            if val == 7:\n",
    "                output()\n",
    "        else:\n",
    "            check_pos(val+1)\n",
    "        i += 1\n",
    "        \n",
    "check_pos(0)"
   ]
  }
 ],
 "metadata": {
  "kernelspec": {
   "display_name": "Python 2",
   "language": "python",
   "name": "python2"
  },
  "language_info": {
   "codemirror_mode": {
    "name": "ipython",
    "version": 2
   },
   "file_extension": ".py",
   "mimetype": "text/x-python",
   "name": "python",
   "nbconvert_exporter": "python",
   "pygments_lexer": "ipython2",
   "version": "2.7.15"
  }
 },
 "nbformat": 4,
 "nbformat_minor": 2
}
