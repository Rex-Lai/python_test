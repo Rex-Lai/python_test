{
 "cells": [
  {
   "cell_type": "code",
   "execution_count": 16,
   "metadata": {},
   "outputs": [
    {
     "name": "stdout",
     "output_type": "stream",
     "text": [
      "19:05:45\n"
     ]
    }
   ],
   "source": [
    "#from datetime import datetime\n",
    "#s = '07:05:45PM'\n",
    "#s = '12:45:54PM'\n",
    "s = '07:05:45PM'\n",
    "#print datetime.strptime(s, '%I:%M:%S%p').time().strftime('%H:%M:%S')\n",
    "h12 = 0\n",
    "if s[8:10] == 'AM':\n",
    "    h12 = 0\n",
    "else:\n",
    "    h12 = 1\n",
    "h24 = int(s[:2])\n",
    "h24 = (h24 % 12)+(12*h12)\n",
    "    \n",
    "\n",
    "    print '0'*(2-len(str(h24))) + str(h24) + s[2:8]"
   ]
  },
  {
   "cell_type": "code",
   "execution_count": 20,
   "metadata": {},
   "outputs": [
    {
     "name": "stdout",
     "output_type": "stream",
     "text": [
      "6\n",
      "1 2 33 44 55 66\n",
      "1 2 33 44 55 66\n",
      "1 2 33 44 55 66\n",
      "1 2 33 44 55 66\n",
      "1 2 33 44 55 66\n",
      "1 2 33 44 55 66\n"
     ]
    }
   ],
   "source": [
    "# Enter your code here. Read input from STDIN. Print output to STDOUT\n",
    "def insert_sort(n, arr):\n",
    "    for idx in range(1,n):\n",
    "        tmp = arr[idx]\n",
    "        no = idx-1\n",
    "        while no >= 0 and tmp < arr[no]:\n",
    "            arr[no+1] = arr[no]\n",
    "            no -= 1\n",
    "            #print(tmp, arr)\n",
    "        arr[no+1] = tmp\n",
    "        print(' '.join(str(val) for val in arr))\n",
    "\n",
    "n = int(raw_input())\n",
    "arr_str = raw_input()\n",
    "arr = [int(val) for val in arr_str.split(' ')]\n",
    "#arr = [1, 4, 3, 5, 6, 2]\n",
    "insert_sort(n, arr)"
   ]
  }
 ],
 "metadata": {
  "kernelspec": {
   "display_name": "Python 2",
   "language": "python",
   "name": "python2"
  },
  "language_info": {
   "codemirror_mode": {
    "name": "ipython",
    "version": 2
   },
   "file_extension": ".py",
   "mimetype": "text/x-python",
   "name": "python",
   "nbconvert_exporter": "python",
   "pygments_lexer": "ipython2",
   "version": "2.7.15"
  }
 },
 "nbformat": 4,
 "nbformat_minor": 2
}
