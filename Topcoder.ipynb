{
 "cells": [
  {
   "cell_type": "code",
   "execution_count": null,
   "metadata": {},
   "outputs": [],
   "source": [
    "#AB problem\n",
    "import sys\n",
    "\n",
    "class AB:\n",
    "    def createString(self, N, K):\n",
    "        A_count = N // 2\n",
    "        B_count = (N + 1) // 2\n",
    "        print('A_count, B_count')\n",
    "        print(A_count, B_count)\n",
    "        s = ('A' * A_count) + ('B' * B_count)\n",
    "        print(s)\n",
    "        pair_count = A_count * B_count\n",
    "        print('pair_count')\n",
    "        print(pair_count)\n",
    "        while K < pair_count:\n",
    "            partitions = s.rpartition('AB')\n",
    "            print(partitions)\n",
    "            print(pair_count)\n",
    "            s = partitions[0] + 'BA' + partitions[2]\n",
    "            pair_count -= 1\n",
    "        return s if pair_count == K else ''\n",
    "    \n",
    "ab = AB()\n",
    "#print('Ans:' + ab.createString(2, 0))\n",
    "#print('Ans:' + ab.createString(3, 2))\n",
    "print('Ans:' + ab.createString(10, 12))\n",
    "#print('Ans:' + ab.createString(5, 8))"
   ]
  }
 ],
 "metadata": {
  "kernelspec": {
   "display_name": "Python 2",
   "language": "python",
   "name": "python2"
  },
  "language_info": {
   "codemirror_mode": {
    "name": "ipython",
    "version": 2
   },
   "file_extension": ".py",
   "mimetype": "text/x-python",
   "name": "python",
   "nbconvert_exporter": "python",
   "pygments_lexer": "ipython2",
   "version": "2.7.15"
  }
 },
 "nbformat": 4,
 "nbformat_minor": 2
}
