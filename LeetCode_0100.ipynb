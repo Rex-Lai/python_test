{
 "cells": [
  {
   "cell_type": "code",
   "execution_count": 1,
   "metadata": {},
   "outputs": [
    {
     "name": "stdout",
     "output_type": "stream",
     "text": [
      "True\n",
      "True\n",
      "True\n",
      "False\n",
      "True\n"
     ]
    }
   ],
   "source": [
    "def isMonotonic(A):\n",
    "    if len(A) <= 2:\n",
    "        return True\n",
    "    result1 = True\n",
    "    result2 = True\n",
    "    for idx in range(1,len(A)):\n",
    "        if A[idx] >= A[idx-1]:\n",
    "            continue\n",
    "        else:\n",
    "            result1 = False\n",
    "            break\n",
    "            \n",
    "    for idx in range(1,len(A)):\n",
    "        if A[idx] <= A[idx-1]:\n",
    "            continue\n",
    "        else:\n",
    "            result2 = False\n",
    "            break\n",
    "    return (result1 or result2)\n",
    "'''\n",
    "print(isMonotonic([1,1,1]))\n",
    "print(isMonotonic([1,2,2,3]))\n",
    "print(isMonotonic([6,5,4,4]))\n",
    "print(isMonotonic([1,3,2]))\n",
    "print(isMonotonic([1,2,4,5]))\n",
    "'''"
   ]
  },
  {
   "cell_type": "code",
   "execution_count": 11,
   "metadata": {},
   "outputs": [
    {
     "name": "stdout",
     "output_type": "stream",
     "text": [
      "acb\n",
      "aaabc\n",
      "gn\n",
      "htqn\n"
     ]
    }
   ],
   "source": [
    "def orderlyQueue(S, K):\n",
    "    if K == 1:\n",
    "        return min(S[i:] + S[:i] for i in range(len(S)))\n",
    "    return \"\".join(sorted(S))\n",
    "    '''\n",
    "    if K >= len(S):\n",
    "        return S\n",
    "    arr = list(S)\n",
    "    arr1=[]\n",
    "    arr2=[]\n",
    "    for idx in range(len(arr)-1):\n",
    "        if (idx % K) == 0:\n",
    "            arr2.append(arr[idx])\n",
    "        else:\n",
    "            arr1.append(arr[idx])\n",
    "    #result = sorted([arr[len(arr)-1]] + arr1 + arr2)\n",
    "    return arr[len(arr)-1] + ''.join(arr1) + ''.join(arr2)\n",
    "    '''\n",
    "\n",
    "print orderlyQueue('cba',1)\n",
    "print orderlyQueue('baaca',3)\n",
    "print orderlyQueue('gn',2) #gn\n",
    "print orderlyQueue('nhtq',1) #htqn ???"
   ]
  }
 ],
 "metadata": {
  "kernelspec": {
   "display_name": "Python 2",
   "language": "python",
   "name": "python2"
  },
  "language_info": {
   "codemirror_mode": {
    "name": "ipython",
    "version": 2
   },
   "file_extension": ".py",
   "mimetype": "text/x-python",
   "name": "python",
   "nbconvert_exporter": "python",
   "pygments_lexer": "ipython2",
   "version": "2.7.15"
  }
 },
 "nbformat": 4,
 "nbformat_minor": 2
}
