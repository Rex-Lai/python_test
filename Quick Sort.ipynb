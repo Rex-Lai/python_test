{
 "cells": [
  {
   "cell_type": "code",
   "execution_count": 25,
   "metadata": {},
   "outputs": [
    {
     "name": "stdout",
     "output_type": "stream",
     "text": [
      "[16, 25, 39, 27, 12, 8, 45, 63]\n",
      "[12, 8]\n",
      "[8]\n",
      "[]\n",
      "[25, 39, 27, 45, 63]\n",
      "[]\n",
      "[39, 27, 45, 63]\n",
      "[27]\n",
      "[45, 63]\n",
      "[]\n",
      "[63]\n",
      "[8, 12, 16, 25, 27, 39, 45, 63]\n"
     ]
    }
   ],
   "source": [
    "def quick_sort(arr):\n",
    "    if (len(arr) < 2):\n",
    "        return arr\n",
    "    else:\n",
    "        pivot = arr[0]\n",
    "        less = [val for val in arr[1:] if val <= pivot]\n",
    "        greater = [val for val in arr[1:] if val > pivot]\n",
    "        return quick_sort(less) + [pivot] + quick_sort(greater)\n",
    "    \n",
    "#arr = [1, 4, 3, 5, 6, 2]\n",
    "arr = [16,25,39,27,12,8,45,63]\n",
    "print quick_sort(arr)\n"
   ]
  }
 ],
 "metadata": {
  "kernelspec": {
   "display_name": "Python 2",
   "language": "python",
   "name": "python2"
  },
  "language_info": {
   "codemirror_mode": {
    "name": "ipython",
    "version": 2
   },
   "file_extension": ".py",
   "mimetype": "text/x-python",
   "name": "python",
   "nbconvert_exporter": "python",
   "pygments_lexer": "ipython2",
   "version": "2.7.15"
  }
 },
 "nbformat": 4,
 "nbformat_minor": 2
}
