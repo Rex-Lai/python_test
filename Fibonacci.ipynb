{
 "cells": [
  {
   "cell_type": "code",
   "execution_count": 33,
   "metadata": {},
   "outputs": [
    {
     "name": "stdout",
     "output_type": "stream",
     "text": [
      "55\n",
      "109\n"
     ]
    }
   ],
   "source": [
    "# Canculate Fibonacci using recursion\n",
    "run_count = 0\n",
    "def fibonacci(n):\n",
    "    global run_count\n",
    "    run_count += 1\n",
    "    if n == 0:\n",
    "        return 0\n",
    "    elif n == 1 or n == 2:\n",
    "        return 1\n",
    "    return fibonacci(n-2) + fibonacci(n-1)\n",
    "    \n",
    "print(fibonacci(10), run_count)"
   ]
  },
  {
   "cell_type": "code",
   "execution_count": 40,
   "metadata": {},
   "outputs": [
    {
     "name": "stdout",
     "output_type": "stream",
     "text": [
      "(55, 122)\n"
     ]
    }
   ],
   "source": [
    "# Using dynamic programming\n",
    "run_count = 0\n",
    "def fibonacci(n):\n",
    "    global run_count\n",
    "    run_count += 1\n",
    "    fib_array = [0, 1]\n",
    "    while len(fib_array) < n + 1:\n",
    "        fib_array.append(0)\n",
    "    if n <= 1:\n",
    "        return n\n",
    "    if fib_array[n-1] == 0:\n",
    "        fib_array[n-1] = fibonacci(n-1)\n",
    "    if fib_array[n-2] == 0:\n",
    "        fib_array[n-2] = fibonacci(n-2)\n",
    "    fib_array[n] = fib_array[n-2] + fib_array[n-1]\n",
    "    return fib_array[n]\n",
    "\n",
    "ans = fibonacci(10)\n",
    "print(ans, run_count)"
   ]
  },
  {
   "cell_type": "code",
   "execution_count": 50,
   "metadata": {},
   "outputs": [
    {
     "name": "stdout",
     "output_type": "stream",
     "text": [
      "(55, 10)\n"
     ]
    }
   ],
   "source": [
    "# Space optimisation\n",
    "run_count = 0\n",
    "def fibonacci(n):\n",
    "    global run_count\n",
    "    run_count += 1\n",
    "    a = 0\n",
    "    b = 1\n",
    "    if n < 0:\n",
    "        print('error')\n",
    "    elif n == 0:\n",
    "        return a\n",
    "    elif n == 1:\n",
    "        return b\n",
    "    else:\n",
    "        for i in range(1,n):\n",
    "            run_count += 1\n",
    "            c = a + b\n",
    "            a = b\n",
    "            b = c\n",
    "        return b\n",
    "print(fibonacci(10), run_count)"
   ]
  },
  {
   "cell_type": "code",
   "execution_count": 55,
   "metadata": {},
   "outputs": [
    {
     "name": "stdout",
     "output_type": "stream",
     "text": [
      "(55, 10)\n"
     ]
    }
   ],
   "source": [
    "# Loop\n",
    "run_count = 0\n",
    "def fib(n):\n",
    "    global run_count\n",
    "    run_count += 1\n",
    "    if n == 0:\n",
    "        return n\n",
    "    a,b = 1,1\n",
    "    for i in range(n-1):\n",
    "        run_count += 1\n",
    "        a,b = b, a+b\n",
    "    return a\n",
    "print(fib(10), run_count)"
   ]
  }
 ],
 "metadata": {
  "kernelspec": {
   "display_name": "Python 2",
   "language": "python",
   "name": "python2"
  },
  "language_info": {
   "codemirror_mode": {
    "name": "ipython",
    "version": 2
   },
   "file_extension": ".py",
   "mimetype": "text/x-python",
   "name": "python",
   "nbconvert_exporter": "python",
   "pygments_lexer": "ipython2",
   "version": "2.7.15"
  }
 },
 "nbformat": 4,
 "nbformat_minor": 2
}
