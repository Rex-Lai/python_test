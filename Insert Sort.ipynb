{
 "cells": [
  {
   "cell_type": "code",
   "execution_count": 14,
   "metadata": {},
   "outputs": [
    {
     "name": "stdout",
     "output_type": "stream",
     "text": [
      "1 4 3 5 6 2\n",
      "1 3 4 5 6 2\n",
      "1 3 4 5 6 2\n",
      "1 3 4 5 6 2\n",
      "1 2 3 4 5 6\n"
     ]
    }
   ],
   "source": [
    "def insert_sort(arr):\n",
    "    for idx in range(1,len(arr)):\n",
    "        tmp = arr[idx]\n",
    "        no = idx-1\n",
    "        while no >= 0 and tmp < arr[no]:\n",
    "            arr[no+1] = arr[no]\n",
    "            no -= 1\n",
    "            #print(tmp, arr)\n",
    "        arr[no+1] = tmp\n",
    "        print(' '.join(str(val) for val in arr))\n",
    "\n",
    "#arr = [16,25,39,27,12,8,45,63]\n",
    "arr = [1, 4, 3, 5, 6, 2]\n",
    "insert_sort(arr)"
   ]
  }
 ],
 "metadata": {
  "kernelspec": {
   "display_name": "Python 2",
   "language": "python",
   "name": "python2"
  },
  "language_info": {
   "codemirror_mode": {
    "name": "ipython",
    "version": 2
   },
   "file_extension": ".py",
   "mimetype": "text/x-python",
   "name": "python",
   "nbconvert_exporter": "python",
   "pygments_lexer": "ipython2",
   "version": "2.7.15"
  }
 },
 "nbformat": 4,
 "nbformat_minor": 2
}
